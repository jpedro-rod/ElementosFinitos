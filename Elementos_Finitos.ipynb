{
  "nbformat": 4,
  "nbformat_minor": 0,
  "metadata": {
    "colab": {
      "name": "Elementos Finitos.ipynb",
      "provenance": [],
      "collapsed_sections": [],
      "authorship_tag": "ABX9TyMWkaDkWDT/psRi1/GfuOkh",
      "include_colab_link": true
    },
    "kernelspec": {
      "name": "python3",
      "display_name": "Python 3"
    },
    "language_info": {
      "name": "python"
    }
  },
  "cells": [
    {
      "cell_type": "markdown",
      "metadata": {
        "id": "view-in-github",
        "colab_type": "text"
      },
      "source": [
        "<a href=\"https://colab.research.google.com/github/jpedro-rod/ElementosFinitos/blob/main/Elementos_Finitos.ipynb\" target=\"_parent\"><img src=\"https://colab.research.google.com/assets/colab-badge.svg\" alt=\"Open In Colab\"/></a>"
      ]
    },
    {
      "cell_type": "markdown",
      "source": [
        "#Elementos Finitos "
      ],
      "metadata": {
        "id": "QXwCPCDDyGPH"
      }
    },
    {
      "cell_type": "code",
      "execution_count": null,
      "metadata": {
        "id": "sSQ2RPGUyD8x"
      },
      "outputs": [],
      "source": [
        "import numpy as np\n",
        "import matplotlib.pyplot as plt\n",
        "import scipy as sp\n",
        "import pandas as pd"
      ]
    },
    {
      "cell_type": "markdown",
      "source": [
        "Formulação forte de um problema de condução de calor estacionário em uma placa:\n",
        "\n",
        "$\\nabla\\cdot\\vec{q} + G = 0 \\;,\\;\\; \\vec{q} = -k\\nabla T$\n",
        "\n",
        "Formulação fraca:\n",
        "\n",
        "$∫_{\\Omega}[\\nabla\\cdot\\vec{q} + G]\\cdot \\omega(x,y) \\;\\; d\\Omega = 0, ∀\\omega \\in U^0$\n",
        "\n",
        "$∫_{\\Omega}[\\nabla\\cdot\\vec{q}\\omega + G\\omega] \\;\\; d\\Omega = 0, ∀\\omega \\in U^0$\n",
        "\n",
        "Pelo Teorema de Green (funcionando como a regra do produto funcionava em 01 dimensão):\n",
        "\n",
        "$\\oint_{\\Gamma}\\omega\\vec{q}\\cdot\\vec{n} \\; d\\Gamma - \\int_{Ω} \\nabla\\omega\\cdot\\vec{q} \\;\\; dΩ + \\int_{\\Omega} G\\omega \\;\\; dΩ= 0 \\;\\;\\;\\; (I)$"
      ],
      "metadata": {
        "id": "La0gdu-5sLjz"
      }
    },
    {
      "cell_type": "markdown",
      "source": [
        "Reescrevendo a 1ª parcela em função das condições de contorno, ter-se-á:\n",
        "\n",
        "$\\oint_{\\Gamma}\\omega\\vec{q}\\cdot\\vec{n} \\; d\\Gamma = \\int_{\\Gamma_q} \\omega\\vec{q}\\cdot\\vec{n} \\; d\\Gamma_q + \\int_{\\Gamma_T} \\omega\\vec{q}\\cdot\\vec{n} \\; d\\Gamma_T$\n",
        "\n",
        "Sabe-se ainda que $\\omega(x,y)=0$ em $\\Gamma_T$, o que simplifica a equação oriunda do Teorema de Green:\n",
        "\n",
        "$\\oint_{\\Gamma}\\omega\\vec{q}\\cdot\\vec{n} \\; d\\Gamma = \\int_{\\Gamma_q} \\omega\\vec{q}\\cdot\\vec{n} \\; d\\Gamma_q \\;\\;\\;\\; (II)$"
      ],
      "metadata": {
        "id": "nnkVjAPXDe2T"
      }
    },
    {
      "cell_type": "markdown",
      "source": [
        "Inserindo $II$ em $I$ e definindo $\\overline{q}=\\vec{q}\\cdot\\vec{n}$ finalmente:\n",
        "\n",
        "$\\int_{Ω} \\nabla\\omega\\cdot\\vec{q} \\;\\; dΩ = \\int_{\\Gamma_q} \\omega\\overline{q} \\;\\; dΓ_q + \\int_{\\Omega} \\omega G \\;\\; dΩ$\n",
        "\n",
        "$\\int_{Ω} \\nabla\\omega\\cdot(-k\\nabla T) \\;\\; dΩ = \\int_{\\Gamma_q} \\omega\\overline{q} \\;\\; dΓ_q + \\int_{\\Omega} \\omega G \\;\\; dΩ$"
      ],
      "metadata": {
        "id": "0jvfXQ8JDfq-"
      }
    },
    {
      "cell_type": "markdown",
      "source": [
        "Discretizando a fórmula fraca:\n",
        "\n",
        "$\\int_{Ω} -B^{e^T}\\omega^{e^T} \\cdot k \\cdot B^eT^e dΩ^e = \\int_{\\Gamma_q} N^{e^T}\\omega^{e^T}\\overline{q} \\;\\; dΓ_q^e + \\int_{\\Omega} N^{e^T}\\omega^{e^T}G \\;\\; dΩ^e$\n",
        "\n",
        "Onde $N^e$ é *matriz* de funções de interpolação (ou de forma) e $B^e$ é matriz das derivadas de $N^e$\n",
        "\n",
        "$\\int_{Ω} -B^{e^T} k B^e \\cdot T^e dΩ^e = \\int_{\\Gamma_q} N^{e^T}\\overline{q} \\;\\; dΓ_q^e + \\int_{\\Omega} N^{e^T}G \\;\\; dΩ^e$"
      ],
      "metadata": {
        "id": "9rJYRbNPENp_"
      }
    },
    {
      "cell_type": "markdown",
      "source": [
        "##Caso em uma dimensão:"
      ],
      "metadata": {
        "id": "S7lt95vH1bRZ"
      }
    },
    {
      "cell_type": "markdown",
      "source": [
        "Condução de calor numa barra fina e homogênea com extremidades a temperaturas fixas e submetida a geração de calor de comportamento linear:\n",
        "\n",
        "$L = 4\\:m = 4 \\;,\\;\\; A = 1\\:m^2 \\;,\\;\\; K = 5\\:W/(°Cm)$\n",
        "\n",
        "$G(x) = \\frac{50}{3}(x+2) \\;,\\;\\; T(x=1) = 100°C \\;,\\;\\; T(x=4) = 0$"
      ],
      "metadata": {
        "id": "nXnqRCUq1hBX"
      }
    },
    {
      "cell_type": "markdown",
      "source": [
        "$\\int_{Ω} B^{e^T} k B^e \\; dx^e \\cdot T^e + \\int_{\\Omega} N^{e^T}G \\;\\; dx^e = 0$"
      ],
      "metadata": {
        "id": "FCqp_ss45IiW"
      }
    },
    {
      "cell_type": "code",
      "source": [
        ""
      ],
      "metadata": {
        "id": "wSKN4qR7qh18"
      },
      "execution_count": null,
      "outputs": []
    }
  ]
}