{
  "cells": [
    {
      "cell_type": "markdown",
      "metadata": {
        "colab_type": "text",
        "id": "view-in-github"
      },
      "source": [
        "<a href=\"https://colab.research.google.com/github/jpedro-rod/ElementosFinitos/blob/main/Elementos_Finitos.ipynb\" target=\"_parent\"><img src=\"https://colab.research.google.com/assets/colab-badge.svg\" alt=\"Open In Colab\"/></a>"
      ]
    },
    {
      "cell_type": "markdown",
      "metadata": {
        "id": "QXwCPCDDyGPH"
      },
      "source": [
        "# Elementos Finitos "
      ]
    },
    {
      "cell_type": "code",
      "execution_count": 1,
      "metadata": {
        "id": "sSQ2RPGUyD8x"
      },
      "outputs": [],
      "source": [
        "import numpy as np\n",
        "import matplotlib.pyplot as plt\n",
        "import scipy as sp\n",
        "import pandas as pd"
      ]
    },
    {
      "cell_type": "markdown",
      "metadata": {
        "id": "La0gdu-5sLjz"
      },
      "source": [
        "Formulação forte de um problema de condução de calor estacionário em uma placa:\n",
        "\n",
        "$\\nabla\\cdot\\vec{q} + G = 0 \\;,\\;\\; \\vec{q} = -k\\nabla T$\n",
        "\n",
        "Formulação fraca:\n",
        "\n",
        "$∫_{\\Omega}[\\nabla\\cdot\\vec{q} + G]\\cdot \\omega(x,y) \\;\\; d\\Omega = 0, ∀\\omega \\in U^0$\n",
        "\n",
        "$∫_{\\Omega}[\\nabla\\cdot\\vec{q}\\omega + G\\omega] \\;\\; d\\Omega = 0, ∀\\omega \\in U^0$\n",
        "\n",
        "Pelo Teorema de Green (funcionando como a regra do produto funcionava em 01 dimensão):\n",
        "\n",
        "$\\oint_{\\Gamma}\\omega\\vec{q}\\cdot\\vec{n} \\; d\\Gamma - \\int_{Ω} \\nabla\\omega\\cdot\\vec{q} \\;\\; dΩ + \\int_{\\Omega} G\\omega \\;\\; dΩ= 0 \\;\\;\\;\\; (I)$"
      ]
    },
    {
      "cell_type": "markdown",
      "metadata": {
        "id": "nnkVjAPXDe2T"
      },
      "source": [
        "Reescrevendo a 1ª parcela em função das condições de contorno, ter-se-á:\n",
        "\n",
        "$\\oint_{\\Gamma}\\omega\\vec{q}\\cdot\\vec{n} \\; d\\Gamma = \\int_{\\Gamma_q} \\omega\\vec{q}\\cdot\\vec{n} \\; d\\Gamma_q + \\int_{\\Gamma_T} \\omega\\vec{q}\\cdot\\vec{n} \\; d\\Gamma_T$\n",
        "\n",
        "Sabe-se ainda que $\\omega(x,y)=0$ em $\\Gamma_T$, o que simplifica a equação oriunda do Teorema de Green:\n",
        "\n",
        "$\\oint_{\\Gamma}\\omega\\vec{q}\\cdot\\vec{n} \\; d\\Gamma = \\int_{\\Gamma_q} \\omega\\vec{q}\\cdot\\vec{n} \\; d\\Gamma_q \\;\\;\\;\\; (II)$"
      ]
    },
    {
      "cell_type": "markdown",
      "metadata": {
        "id": "0jvfXQ8JDfq-"
      },
      "source": [
        "Inserindo $II$ em $I$ e definindo $\\overline{q}=\\vec{q}\\cdot\\vec{n}$ finalmente:\n",
        "\n",
        "$\\int_{Ω} \\nabla\\omega\\cdot\\vec{q} \\;\\; dΩ = \\int_{\\Gamma_q} \\omega\\overline{q} \\;\\; dΓ_q + \\int_{\\Omega} \\omega G \\;\\; dΩ$\n",
        "\n",
        "$\\int_{Ω} \\nabla\\omega\\cdot(-k\\nabla T) \\;\\; dΩ = \\int_{\\Gamma_q} \\omega\\overline{q} \\;\\; dΓ_q + \\int_{\\Omega} \\omega G \\;\\; dΩ$"
      ]
    },
    {
      "cell_type": "markdown",
      "metadata": {
        "id": "9rJYRbNPENp_"
      },
      "source": [
        "Discretizando a fórmula fraca:\n",
        "\n",
        "$\\int_{Ω} -B^{e^T}\\omega^{e^T} \\cdot k \\cdot B^eT^e dΩ^e = \\int_{\\Gamma_q} N^{e^T}\\omega^{e^T}\\overline{q} \\;\\; dΓ_q^e + \\int_{\\Omega} N^{e^T}\\omega^{e^T}G \\;\\; dΩ^e$\n",
        "\n",
        "Onde $N^e$ é *matriz* de funções de interpolação (ou de forma) e $B^e$ é matriz das derivadas de $N^e$\n",
        "\n",
        "$\\int_{Ω} -B^{e^T} k B^e \\cdot T^e dΩ^e = \\int_{\\Gamma_q} N^{e^T}\\overline{q} \\;\\; dΓ_q^e + \\int_{\\Omega} N^{e^T}G \\;\\; dΩ^e$"
      ]
    },
    {
      "cell_type": "markdown",
      "metadata": {},
      "source": [
        "## Funções de forma (ou de interpolação)"
      ]
    },
    {
      "cell_type": "code",
      "execution_count": 2,
      "metadata": {
        "id": "wSKN4qR7qh18"
      },
      "outputs": [],
      "source": [
        "#1ª ordem:\n",
        "#N1 = [N11, N12]\n",
        "\n",
        "def N11(x):\n",
        "    return 4-x\n",
        "\n",
        "def N12(x):\n",
        "    return x-3\n",
        "\n",
        "def B11(x):\n",
        "    return -1\n",
        "\n",
        "def B12(x):\n",
        "    return 1\n",
        "\n",
        "#2ª ordem:\n",
        "#N2 = [N21, N22, N23]\n",
        "\n",
        "def N21(x):\n",
        "    return (2/2**2)*(x-2)*(x-3)\n",
        "\n",
        "def N22(x):\n",
        "    return (-4/2**2)*(x-1)*(x-3)\n",
        "\n",
        "def N23(x):\n",
        "    return (2/2**2)*(x-1)*(x-2)\n",
        "\n",
        "# B2 = [B21, B22, B23]\n",
        "\n",
        "def B21(x):\n",
        "    return (1/2)*(2*x-5)\n",
        "\n",
        "def B22(x):\n",
        "    return -2*x+4\n",
        "\n",
        "def B23(x):\n",
        "    return (1/2)*(2*x-3)"
      ]
    },
    {
      "cell_type": "markdown",
      "metadata": {},
      "source": [
        "## Condução de calor em barra delgada"
      ]
    },
    {
      "cell_type": "markdown",
      "metadata": {},
      "source": [
        "Condução de calor numa barra fina e homogênea com extremidades a temperaturas fixas e submetida a geração de calor de comportamento linear:\n",
        "\n",
        "$L = 4\\:m = 4 \\;,\\;\\; A = 1\\:m^2 \\;,\\;\\; K = 5\\:W/(°Cm)$\n",
        "\n",
        "$G(x) = \\frac{50}{3}(x+2) \\;,\\;\\; T(x=1) = 100°C \\;,\\;\\; T(x=4) = 0$"
      ]
    },
    {
      "cell_type": "markdown",
      "metadata": {},
      "source": [
        "$$\\int_{Ω} B^{e^T} k B^e \\; dx^e \\cdot T^e + \\int_{\\Omega} N^{e^T}G \\;\\; dx^e = 0$$"
      ]
    },
    {
      "cell_type": "code",
      "execution_count": null,
      "metadata": {},
      "outputs": [],
      "source": [
        "#Parâmetros Físicos\n",
        "\n",
        "Xo = 1\n",
        "Xf = 4\n",
        "A = 1\n",
        "k = 5\n",
        "To = 100\n",
        "Tf = 0\n",
        "\n",
        "def S(x):\n",
        "    return (50/3)*(x+2)\n",
        "\n",
        "#Parâmetros numéricos\n",
        "\n",
        "ligacoes = 4\n",
        "malha = np.linspace(Xo,Xf,ligacoes)\n",
        "nElementos = len(malha) - 1\n",
        "ordemElemento = 2   #1 ou 2\n",
        "\n",
        "'''\n",
        "Se = np.array([[S]])\n",
        "\n",
        "#Vetores de forma\n",
        "\n",
        "Net = np.array([[N21,N22,N23]])\n",
        "Ne = np.transpose(Net)\n",
        "\n",
        "Bet = np.array([[B21,B22,B23]])\n",
        "Be = np.transpose(Bet)\n",
        "\n",
        "#Matrizes elementares\n",
        "\n",
        "dK = Be@Bet   #Certo seria Be @ K @ Bet, mas como em uma dimensão K é escalar, o produto se torna comutativo\n",
        "dG = Se@Net\n",
        "'''\n",
        "\n",
        "#Montando matrizes elementares e integrando\n",
        "\n",
        "##Função de integração a ser usada\n",
        "\n",
        "def INT(f,Xo,Xf):\n",
        "    return sp.integrate.quad(f,Xo,Xf)[0]\n",
        "\n",
        "##Produtos das funções de forma 2ª ordem\n",
        "\n",
        "if ordemElemento == 2:\n",
        "    K11 = lambda x : B21(x)*k*B21(x)\n",
        "    K12 = lambda x : B21(x)*k*B22(x)\n",
        "    K13 = lambda x : B21(x)*k*B23(x)\n",
        "    K21 = lambda x : B22(x)*k*B21(x)\n",
        "    K22 = lambda x : B22(x)*k*B22(x)\n",
        "    K23 = lambda x : B22(x)*k*B23(x)\n",
        "    K31 = lambda x : B23(x)*k*B21(x)\n",
        "    K32 = lambda x : B23(x)*k*B22(x)\n",
        "    K33 = lambda x : B23(x)*k*B23(x)\n",
        "\n",
        "    G1 = lambda x : S(x)*N21(x)\n",
        "    G2 = lambda x : S(x)*N22(x)\n",
        "    G3 = lambda x : S(x)*N23(x)\n",
        "\n",
        "##Integrando e montando\n",
        "\n",
        "    listaKe = np.empty((3,3,nElementos))\n",
        "    listaGe = np.empty((1,3,nElementos))\n",
        "\n",
        "    for e in range(nElementos):\n",
        "        \n",
        "        Ke = np.array([[INT(K11,malha[e],malha[e+1]),INT(K12,malha[e],malha[e+1]),INT(K13,malha[e],malha[e+1])],\n",
        "                    [INT(K21,malha[e],malha[e+1]),INT(K22,malha[e],malha[e+1]),INT(K23,malha[e],malha[e+1])],\n",
        "                    [INT(K31,malha[e],malha[e+1]),INT(K32,malha[e],malha[e+1]),INT(K33,malha[e],malha[e+1])]])         \n",
        "\n",
        "        Ge = np.array([[INT(G1,malha[e],malha[e+1]),INT(G2,malha[e],malha[e+1]),INT(G3,malha[e],malha[e+1])]])\n",
        "        \n",
        "        listaKe[:,:,e] = Ke\n",
        "        listaGe[:,:,e] = Ge\n",
        "\n",
        "##Produtos das funções de forma 1ª ordem\n",
        "\n",
        "elif ordemElemento == 1:\n",
        "    K11 = lambda x : B11(x)*k*B11(x)\n",
        "    K12 = lambda x : B11(x)*k*B12(x)\n",
        "    K21 = lambda x : B12(x)*k*B11(x)\n",
        "    K22 = lambda x : B12(x)*k*B12(x)\n",
        "\n",
        "    G1 = lambda x : S(x)*N11(x)\n",
        "    G2 = lambda x : S(x)*N12(x)\n",
        "\n",
        "##Integrando e montando\n",
        "\n",
        "    listaKe = np.empty((2,2,nElementos))\n",
        "    listaGe = np.empty((1,2,nElementos))\n",
        "\n",
        "    for e in range(0,nElementos,2):\n",
        "        Ke = np.array([[INT(K11,malha[e],malha[e+1]),INT(K12,malha[e],malha[e+1])],\n",
        "                    [INT(K21,malha[e],malha[e+1]),INT(K22,malha[e],malha[e+1])]])         \n",
        "\n",
        "        Ge = np.array([[INT(G1,malha[e],malha[e+1]),INT(G2,malha[e],malha[e+1]),INT(G3,malha[e],malha[e+1])]])\n",
        "        \n",
        "        listaKe[:,:,e] = Ke\n",
        "        listaGe[:,:,e] = Ge\n",
        "\n",
        "#Matriz de conectividade\n",
        "\n",
        "M = np.empty((nElementos,3))\n",
        "\n",
        "for elemento in range(nElementos):\n",
        "    for noLocal in range(3):\n",
        "\n",
        "        M[elemento,noLocal] = elemento*2 + noLocal\n",
        "\n",
        "print(M)\n",
        "\n",
        "#Matrizes globais\n",
        "\n",
        "K = np.zeros((nElementos*3 - nElementos,nElementos*3 - nElementos))\n",
        "G = np.zeros(nElementos*3 - nElementos)\n",
        "\n",
        "print(len(listaKe[0,0,:]))\n",
        "for indice in range(len(listaKe[0,0,:])):\n",
        "    \n",
        "    Kn = np.empty((nElementos*3 - nElementos,nElementos*3 - nElementos))\n",
        "    \n",
        "    Kn[indice*3:indice*3+3,indice*3:indice*3+3] = listaKe[:,:,indice]\n",
        "\n",
        "    K = K + Kn\n",
        "\n",
        "print(K)"
      ]
    },
    {
      "cell_type": "code",
      "execution_count": 101,
      "metadata": {},
      "outputs": [
        {
          "name": "stdout",
          "output_type": "stream",
          "text": [
            "(1, 3)\n",
            "(3, 1)\n",
            "[[1 2 3]]\n",
            "[[1]\n",
            " [2]\n",
            " [3]]\n",
            "[[1 2 3]\n",
            " [2 4 6]\n",
            " [3 6 9]]\n"
          ]
        }
      ],
      "source": [
        "A = np.array([[1,1,1],[1,1,1]])\n",
        "B = np.array([[1,1],[2,2],[3,3]])\n",
        "C = np.array([[1],[2],[3]])\n",
        "Ct = np.transpose(C)\n",
        "\n",
        "D = np.array([[1,2,3]])\n",
        "Dt = np.transpose(D)\n",
        "print(D.shape)\n",
        "print(Dt.shape)\n",
        "print(D)\n",
        "print(Dt)\n",
        "print(Dt @ D)\n"
      ]
    }
  ],
  "metadata": {
    "colab": {
      "authorship_tag": "ABX9TyMWkaDkWDT/psRi1/GfuOkh",
      "collapsed_sections": [],
      "include_colab_link": true,
      "name": "Elementos Finitos.ipynb",
      "provenance": []
    },
    "kernelspec": {
      "display_name": "Python 3.9.5 64-bit",
      "language": "python",
      "name": "python3"
    },
    "language_info": {
      "codemirror_mode": {
        "name": "ipython",
        "version": 3
      },
      "file_extension": ".py",
      "mimetype": "text/x-python",
      "name": "python",
      "nbconvert_exporter": "python",
      "pygments_lexer": "ipython3",
      "version": "3.9.5"
    },
    "vscode": {
      "interpreter": {
        "hash": "2324b11c3d14ee19b18967e47291ae8ae5acf3f9fa686311d50aefb71dca22a4"
      }
    }
  },
  "nbformat": 4,
  "nbformat_minor": 0
}
