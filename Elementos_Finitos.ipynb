{
  "cells": [
    {
      "cell_type": "markdown",
      "metadata": {
        "colab_type": "text",
        "id": "view-in-github"
      },
      "source": [
        "<a href=\"https://colab.research.google.com/github/jpedro-rod/ElementosFinitos/blob/main/Elementos_Finitos.ipynb\" target=\"_parent\"><img src=\"https://colab.research.google.com/assets/colab-badge.svg\" alt=\"Open In Colab\"/></a>"
      ]
    },
    {
      "cell_type": "markdown",
      "metadata": {
        "id": "QXwCPCDDyGPH"
      },
      "source": [
        "# Elementos Finitos "
      ]
    },
    {
      "cell_type": "code",
      "execution_count": 1,
      "metadata": {
        "id": "sSQ2RPGUyD8x"
      },
      "outputs": [],
      "source": [
        "import numpy as np\n",
        "import matplotlib.pyplot as plt\n",
        "import scipy as sp\n",
        "import pandas as pd\n",
        "import itertools as it   #biblioteca com funções de permutação a serem usadas na interação da matriz de conectividade com a global"
      ]
    },
    {
      "cell_type": "markdown",
      "metadata": {
        "id": "La0gdu-5sLjz"
      },
      "source": [
        "Formulação forte de um problema de condução de calor estacionário em uma placa:\n",
        "\n",
        "$\\nabla\\cdot\\vec{q} + G = 0 \\;,\\;\\; \\vec{q} = -k\\nabla T$\n",
        "\n",
        "Formulação fraca:\n",
        "\n",
        "$∫_{\\Omega}[\\nabla\\cdot\\vec{q} + G]\\cdot \\omega(x,y) \\;\\; d\\Omega = 0, ∀\\omega \\in U^0$\n",
        "\n",
        "$∫_{\\Omega}[\\nabla\\cdot\\vec{q}\\omega + G\\omega] \\;\\; d\\Omega = 0, ∀\\omega \\in U^0$\n",
        "\n",
        "Pelo Teorema de Green (que assume a forma de integral por partes em 01 dimensão):\n",
        "\n",
        "$\\oint_{\\Gamma}\\omega\\vec{q}\\cdot\\vec{n} \\; d\\Gamma - \\int_{Ω} \\nabla\\omega\\cdot\\vec{q} \\;\\; dΩ + \\int_{\\Omega} G\\omega \\;\\; dΩ= 0 \\;\\;\\;\\; (I)$"
      ]
    },
    {
      "cell_type": "markdown",
      "metadata": {
        "id": "nnkVjAPXDe2T"
      },
      "source": [
        "Reescrevendo a 1ª parcela em função das condições de contorno, ter-se-á:\n",
        "\n",
        "$\\oint_{\\Gamma}\\omega\\vec{q}\\cdot\\vec{n} \\; d\\Gamma = \\int_{\\Gamma_q} \\omega\\vec{q}\\cdot\\vec{n} \\; d\\Gamma_q + \\int_{\\Gamma_T} \\omega\\vec{q}\\cdot\\vec{n} \\; d\\Gamma_T$\n",
        "\n",
        "Sabe-se ainda que $\\omega(x,y)=0$ em $\\Gamma_T$ (para C.C. de Dirichlet), o que simplifica a equação oriunda do Teorema de Green:\n",
        "\n",
        "$\\oint_{\\Gamma}\\omega\\vec{q}\\cdot\\vec{n} \\; d\\Gamma = \\int_{\\Gamma_q} \\omega\\vec{q}\\cdot\\vec{n} \\; d\\Gamma_q \\;\\;\\;\\; (II)$"
      ]
    },
    {
      "cell_type": "markdown",
      "metadata": {
        "id": "0jvfXQ8JDfq-"
      },
      "source": [
        "Inserindo $II$ em $I$ e definindo $\\overline{q}=\\vec{q}\\cdot\\vec{n}$ finalmente:\n",
        "\n",
        "$$ \\int_{Ω} \\nabla\\omega\\cdot(-k\\nabla T) \\;\\; dΩ = \\int_{\\Gamma_q} \\omega\\overline{q} \\;\\; dΓ_q + \\int_{\\Omega} \\omega G \\;\\; dΩ $$"
      ]
    },
    {
      "cell_type": "markdown",
      "metadata": {
        "id": "9rJYRbNPENp_"
      },
      "source": [
        "Discretizando a fórmula fraca:\n",
        "\n",
        "$$ T(x) = \\sum_{i}^{\\infty} N_i \\cdot T_i \\:,\\;\\; \\omega(x) = \\sum_{j}^{\\infty} N_j \\cdot w_j $$\n",
        "\n",
        "$$ \\int_{Ω} \\sum_{i}^{\\infty} \\sum_{j}^{\\infty} -B_j \\omega_j \\cdot k \\cdot B_i T_i \\;\\; dΩ = \\int_{\\Gamma_q} \\sum_{j}^{\\infty} N_j \\omega_j \\cdot \\overline{q} \\;\\; dΓ_q + \\int_{\\Omega} \\sum_{j}^{\\infty} N_j \\omega_j \\cdot G \\;\\; dΩ \\:,\\;\\; B_n = \\nabla N_n  $$\n",
        "\n",
        "$N$ é o vetor de funções de interpolação (ou de forma). Índices diferentes representam vetores transpostos.\n",
        "\n",
        "$$ \\sum_{i}^{\\infty} \\sum_{j}^{\\infty} \\int_{Ω} -B_j k B_i \\cdot T_i \\;\\; dΩ = \\sum_{j}^{\\infty} \\int_{\\Gamma_q} N_j \\cdot \\overline{q} \\;\\; dΓ_q + \\sum_{j}^{\\infty} \\int_{\\Omega} N_j \\cdot G \\;\\; dΩ $$"
      ]
    },
    {
      "cell_type": "markdown",
      "metadata": {},
      "source": [
        "## Funções de forma (ou de interpolação)"
      ]
    },
    {
      "cell_type": "code",
      "execution_count": 2,
      "metadata": {
        "id": "wSKN4qR7qh18"
      },
      "outputs": [],
      "source": [
        "#1ª ordem:\n",
        "#N1 = [N11, N12]\n",
        "\n",
        "def N11(x,X1,X2):\n",
        "    return (X2-x)/(X2-X1)\n",
        "\n",
        "def N12(x,X1,X2):\n",
        "    return (x-X1)/(X2-X1)\n",
        "\n",
        "def B11(x,X1,X2):\n",
        "    return -1/(X2-X1)\n",
        "\n",
        "def B12(x,X1,X2):\n",
        "    return 1/(X2-X1)\n",
        "\n",
        "#2ª ordem:\n",
        "#N2 = [N21, N22, N23]\n",
        "\n",
        "def N21(x,X1,X2,X3):\n",
        "    return 2*(x-X2)*(x-X3)/(X3-X1)**2\n",
        "\n",
        "def N22(x,X1,X2,X3):\n",
        "    return (-4)*(x-X1)*(x-X3)/(X3-X1)**2\n",
        "\n",
        "def N23(x,X1,X2,X3):\n",
        "    return 2*(x-X1)*(x-X2)/(X3-X1)**2\n",
        "\n",
        "# B2 = [B21, B22, B23]\n",
        "\n",
        "def B21(x,X1,X2,X3):\n",
        "    return 2*(2*x-(X2+X3))/(X3-X1)**2\n",
        "\n",
        "def B22(x,X1,X2,X3):\n",
        "    return (-4)*(2*x-(X1+X3))/(X3-X1)**2\n",
        "\n",
        "def B23(x,X1,X2,X3):\n",
        "    return 2*(2*x-(X1+X2))/(X3-X1)**2"
      ]
    },
    {
      "cell_type": "markdown",
      "metadata": {},
      "source": [
        "## Condução de calor em barra delgada"
      ]
    },
    {
      "cell_type": "markdown",
      "metadata": {},
      "source": [
        "Condução de calor numa barra fina e homogênea com extremidades a temperaturas fixas e submetida a geração de calor de comportamento linear:\n",
        "\n",
        "$L = 4\\:m = 4 \\;,\\;\\; A = 1\\:m^2 \\;,\\;\\; K = 5\\:W/(°Cm)$\n",
        "\n",
        "$G(x) = \\frac{50}{3}(x+2) \\;,\\;\\; T(x=1) = 100°C \\;,\\;\\; T(x=4) = 0$"
      ]
    },
    {
      "cell_type": "markdown",
      "metadata": {},
      "source": [
        "$$ \\sum_i^{\\infty} \\sum_j^{\\infty} \\int_{Ω} B_j k B_i \\;\\; dx \\cdot T_i + \\sum_j^{\\infty} \\int_{\\Omega} N_j \\;\\; dx \\cdot G = 0 $$\n",
        "\n",
        "$$ K = \\int_{x_o}^{x_f} B_j k B_i \\;\\; dx \\:,\\;\\; B = \\int_{x_o}^{x_f} N_j \\;\\; dx $$\n"
      ]
    },
    {
      "cell_type": "markdown",
      "metadata": {},
      "source": [
        "### Integrando para obter matriz de rigidez"
      ]
    },
    {
      "cell_type": "code",
      "execution_count": 25,
      "metadata": {},
      "outputs": [
        {
          "name": "stdout",
          "output_type": "stream",
          "text": [
            "Matriz de conectividade: \n",
            "\n",
            "Matrizes globais singulares: \n",
            "Ks\n",
            "Gs\n",
            "\n",
            "Matrizes globais: \n",
            "K\n",
            "G\n",
            "\n",
            "Campo de temperatura (solução numérica): \n",
            "[100.    93.41  86.99  80.73  74.65  68.76  63.05  57.53  52.22  47.12\n",
            "  42.23  37.56  33.12  28.92  24.96  21.24  17.78  14.58  11.64   8.98\n",
            "   6.6    4.5    2.7    1.2    0.  ]\n"
          ]
        },
        {
          "ename": "ValueError",
          "evalue": "x and y must be the same size",
          "output_type": "error",
          "traceback": [
            "\u001b[1;31m---------------------------------------------------------------------------\u001b[0m",
            "\u001b[1;31mValueError\u001b[0m                                Traceback (most recent call last)",
            "\u001b[1;32mc:\\Users\\João Pedro\\Downloads\\ElementosFinitos\\Elementos_Finitos.ipynb Célula: 14\u001b[0m in \u001b[0;36m<cell line: 298>\u001b[1;34m()\u001b[0m\n\u001b[0;32m    <a href='vscode-notebook-cell:/c%3A/Users/Jo%C3%A3o%20Pedro/Downloads/ElementosFinitos/Elementos_Finitos.ipynb#X15sZmlsZQ%3D%3D?line=295'>296</a>\u001b[0m ax1\u001b[39m.\u001b[39mscatter(malha, Tnos, s\u001b[39m=\u001b[39m\u001b[39m15\u001b[39m, color\u001b[39m=\u001b[39m\u001b[39m'\u001b[39m\u001b[39mred\u001b[39m\u001b[39m'\u001b[39m)\n\u001b[0;32m    <a href='vscode-notebook-cell:/c%3A/Users/Jo%C3%A3o%20Pedro/Downloads/ElementosFinitos/Elementos_Finitos.ipynb#X15sZmlsZQ%3D%3D?line=296'>297</a>\u001b[0m \u001b[39m#ax1.plot(malha, CampoTemperatura, color='red',)\u001b[39;00m\n\u001b[1;32m--> <a href='vscode-notebook-cell:/c%3A/Users/Jo%C3%A3o%20Pedro/Downloads/ElementosFinitos/Elementos_Finitos.ipynb#X15sZmlsZQ%3D%3D?line=297'>298</a>\u001b[0m ax1\u001b[39m.\u001b[39;49mscatter(DominioAnalitico, CampoTNumerico(DominioAnalitico,Tnos), s\u001b[39m=\u001b[39;49m\u001b[39m15\u001b[39;49m, color\u001b[39m=\u001b[39;49m\u001b[39m'\u001b[39;49m\u001b[39mblue\u001b[39;49m\u001b[39m'\u001b[39;49m)\n\u001b[0;32m    <a href='vscode-notebook-cell:/c%3A/Users/Jo%C3%A3o%20Pedro/Downloads/ElementosFinitos/Elementos_Finitos.ipynb#X15sZmlsZQ%3D%3D?line=298'>299</a>\u001b[0m \u001b[39m#ax1.plot(DominioAnalitico, CampoTNumerico(DominioAnalitico,Tnos), color='blue')\u001b[39;00m\n\u001b[0;32m    <a href='vscode-notebook-cell:/c%3A/Users/Jo%C3%A3o%20Pedro/Downloads/ElementosFinitos/Elementos_Finitos.ipynb#X15sZmlsZQ%3D%3D?line=299'>300</a>\u001b[0m ax1\u001b[39m.\u001b[39mplot(DominioAnalitico, CampoTAnalitico(DominioAnalitico), color\u001b[39m=\u001b[39m\u001b[39m'\u001b[39m\u001b[39mblack\u001b[39m\u001b[39m'\u001b[39m, linewidth\u001b[39m=\u001b[39m\u001b[39m1.5\u001b[39m)\n",
            "File \u001b[1;32m~\\AppData\\Local\\Packages\\PythonSoftwareFoundation.Python.3.9_qbz5n2kfra8p0\\LocalCache\\local-packages\\Python39\\site-packages\\matplotlib\\__init__.py:1414\u001b[0m, in \u001b[0;36m_preprocess_data.<locals>.inner\u001b[1;34m(ax, data, *args, **kwargs)\u001b[0m\n\u001b[0;32m   1411\u001b[0m \u001b[39m@functools\u001b[39m\u001b[39m.\u001b[39mwraps(func)\n\u001b[0;32m   1412\u001b[0m \u001b[39mdef\u001b[39;00m \u001b[39minner\u001b[39m(ax, \u001b[39m*\u001b[39margs, data\u001b[39m=\u001b[39m\u001b[39mNone\u001b[39;00m, \u001b[39m*\u001b[39m\u001b[39m*\u001b[39mkwargs):\n\u001b[0;32m   1413\u001b[0m     \u001b[39mif\u001b[39;00m data \u001b[39mis\u001b[39;00m \u001b[39mNone\u001b[39;00m:\n\u001b[1;32m-> 1414\u001b[0m         \u001b[39mreturn\u001b[39;00m func(ax, \u001b[39m*\u001b[39m\u001b[39mmap\u001b[39m(sanitize_sequence, args), \u001b[39m*\u001b[39m\u001b[39m*\u001b[39mkwargs)\n\u001b[0;32m   1416\u001b[0m     bound \u001b[39m=\u001b[39m new_sig\u001b[39m.\u001b[39mbind(ax, \u001b[39m*\u001b[39margs, \u001b[39m*\u001b[39m\u001b[39m*\u001b[39mkwargs)\n\u001b[0;32m   1417\u001b[0m     auto_label \u001b[39m=\u001b[39m (bound\u001b[39m.\u001b[39marguments\u001b[39m.\u001b[39mget(label_namer)\n\u001b[0;32m   1418\u001b[0m                   \u001b[39mor\u001b[39;00m bound\u001b[39m.\u001b[39mkwargs\u001b[39m.\u001b[39mget(label_namer))\n",
            "File \u001b[1;32m~\\AppData\\Local\\Packages\\PythonSoftwareFoundation.Python.3.9_qbz5n2kfra8p0\\LocalCache\\local-packages\\Python39\\site-packages\\matplotlib\\axes\\_axes.py:4368\u001b[0m, in \u001b[0;36mAxes.scatter\u001b[1;34m(self, x, y, s, c, marker, cmap, norm, vmin, vmax, alpha, linewidths, edgecolors, plotnonfinite, **kwargs)\u001b[0m\n\u001b[0;32m   4366\u001b[0m y \u001b[39m=\u001b[39m np\u001b[39m.\u001b[39mma\u001b[39m.\u001b[39mravel(y)\n\u001b[0;32m   4367\u001b[0m \u001b[39mif\u001b[39;00m x\u001b[39m.\u001b[39msize \u001b[39m!=\u001b[39m y\u001b[39m.\u001b[39msize:\n\u001b[1;32m-> 4368\u001b[0m     \u001b[39mraise\u001b[39;00m \u001b[39mValueError\u001b[39;00m(\u001b[39m\"\u001b[39m\u001b[39mx and y must be the same size\u001b[39m\u001b[39m\"\u001b[39m)\n\u001b[0;32m   4370\u001b[0m \u001b[39mif\u001b[39;00m s \u001b[39mis\u001b[39;00m \u001b[39mNone\u001b[39;00m:\n\u001b[0;32m   4371\u001b[0m     s \u001b[39m=\u001b[39m (\u001b[39m20\u001b[39m \u001b[39mif\u001b[39;00m rcParams[\u001b[39m'\u001b[39m\u001b[39m_internal.classic_mode\u001b[39m\u001b[39m'\u001b[39m] \u001b[39melse\u001b[39;00m\n\u001b[0;32m   4372\u001b[0m          rcParams[\u001b[39m'\u001b[39m\u001b[39mlines.markersize\u001b[39m\u001b[39m'\u001b[39m] \u001b[39m*\u001b[39m\u001b[39m*\u001b[39m \u001b[39m2.0\u001b[39m)\n",
            "\u001b[1;31mValueError\u001b[0m: x and y must be the same size"
          ]
        },
        {
          "data": {
            "image/png": "[encoded data removed]",
            "text/plain": [
              "<Figure size 800x600 with 1 Axes>"
            ]
          },
          "metadata": {},
          "output_type": "display_data"
        }
      ],
      "source": [
        "#Parâmetros Físicos\n",
        "\n",
        "Xo = 1\n",
        "Xf = 4\n",
        "A = 1\n",
        "k = 5\n",
        "To = 100\n",
        "Tf = 0\n",
        "\n",
        "def S(x):\n",
        "    return (50/3)*(x+2)\n",
        "\n",
        "#Parâmetros numéricos############################\n",
        "\n",
        "#OBS.: \"ligacoes\" se difere de nós pois se refere a pontos que ficam apenas nas fronteiras de cada elemento. \"ligacoes\" não abrange nós no interior de elementos, como nos de 2ª ordem.\n",
        "\n",
        "ordemElemento = 1   #1 ou 2\n",
        "\n",
        "ligacoes = 25                              #PARA 2ª ORDEM SOMENTE NÚMEROS ÍMPARES\n",
        "malha = np.linspace(Xo,Xf,ligacoes)\n",
        "\n",
        "#################################################\n",
        "\n",
        "##Produtos das funções de forma 1ª ordem\n",
        "if ordemElemento == 1:\n",
        "\n",
        "    ###Definindo nº de elementos e nós \n",
        "    nElementos = len(malha)-1          #O nº de elementos sempre será inteiro independente se nº de ligações é par ou impar\n",
        "    nNos = nElementos+1\n",
        "    \n",
        "    nNosLocais = 2\n",
        "\n",
        "    K11 = lambda x,X1,X2 : B11(x,X1,X2)*k*B11(x,X1,X2)\n",
        "    K12 = lambda x,X1,X2 : B11(x,X1,X2)*k*B12(x,X1,X2)\n",
        "    K21 = lambda x,X1,X2 : B12(x,X1,X2)*k*B11(x,X1,X2)\n",
        "    K22 = lambda x,X1,X2 : B12(x,X1,X2)*k*B12(x,X1,X2)\n",
        "\n",
        "    G1 = lambda x,X1,X2 : S(x)*N11(x,X1,X2)\n",
        "    G2 = lambda x,X1,X2 : S(x)*N12(x,X1,X2)\n",
        "\n",
        "    ###Função de integração a ser usada\n",
        "    def INTEGRACAO_1(f,X1,X2):\n",
        "        return sp.integrate.quad(f,X1,X2,(X1,X2))[0]\n",
        "\n",
        "##Integrando e montando\n",
        "    listaKe = np.empty((2,2,nElementos))\n",
        "    listaGe = np.empty((1,2,nElementos))\n",
        "\n",
        "    for e in range(0,nElementos):\n",
        "        Ke = np.array([[INTEGRACAO_1(K11,malha[e],malha[e+1]),INTEGRACAO_1(K12,malha[e],malha[e+1])],\n",
        "                    [INTEGRACAO_1(K21,malha[e],malha[e+1]),INTEGRACAO_1(K22,malha[e],malha[e+1])]])         \n",
        "\n",
        "        Ge = np.array([[INTEGRACAO_1(G1,malha[e],malha[e+1]),INTEGRACAO_1(G2,malha[e],malha[e+1])]])\n",
        "\n",
        "        listaKe[:,:,e] = Ke\n",
        "        listaGe[:,:,e] = Ge\n",
        "\n",
        "\n",
        "##Produtos das funções de forma 2ª ordem\n",
        "elif ordemElemento == 2:\n",
        "    \n",
        "    ###Definindo nº de elementos e nós\n",
        "    nElementos = (len(malha)-1)/2          #O nº de elementos será inteiro quando nº de ligações for ímpar e racional quando nº de ligações for par\n",
        "    nNos = int(3*nElementos - (nElementos-1))\n",
        "\n",
        "    nNosLocais = 3\n",
        "    \n",
        "    nElementos = int(nElementos)     #Para ser possível realizar os loops mais abaixo e montar a lista de matrizes de elementos\n",
        "\n",
        "    K11 = lambda x,X1,X2,X3 : B21(x,X1,X2,X3)*k*B21(x,X1,X2,X3)\n",
        "    K12 = lambda x,X1,X2,X3 : B21(x,X1,X2,X3)*k*B22(x,X1,X2,X3)\n",
        "    K13 = lambda x,X1,X2,X3 : B21(x,X1,X2,X3)*k*B23(x,X1,X2,X3)\n",
        "    K21 = lambda x,X1,X2,X3 : B22(x,X1,X2,X3)*k*B21(x,X1,X2,X3)\n",
        "    K22 = lambda x,X1,X2,X3 : B22(x,X1,X2,X3)*k*B22(x,X1,X2,X3)\n",
        "    K23 = lambda x,X1,X2,X3 : B22(x,X1,X2,X3)*k*B23(x,X1,X2,X3)\n",
        "    K31 = lambda x,X1,X2,X3 : B23(x,X1,X2,X3)*k*B21(x,X1,X2,X3)\n",
        "    K32 = lambda x,X1,X2,X3 : B23(x,X1,X2,X3)*k*B22(x,X1,X2,X3)\n",
        "    K33 = lambda x,X1,X2,X3 : B23(x,X1,X2,X3)*k*B23(x,X1,X2,X3)\n",
        "\n",
        "    G1 = lambda x,X1,X2,X3 : S(x)*N21(x,X1,X2,X3)\n",
        "    G2 = lambda x,X1,X2,X3 : S(x)*N22(x,X1,X2,X3)\n",
        "    G3 = lambda x,X1,X2,X3 : S(x)*N23(x,X1,X2,X3)\n",
        "\n",
        "    ###Função de integração a ser usada\n",
        "    def INTEGRACAO_2(f,X1,X2,X3):\n",
        "        return sp.integrate.quad(f,X1,X3,(X1,X2,X3))[0]\n",
        "\n",
        "##Integrando e montando\n",
        "    listaKe = np.empty((3,3,nElementos))\n",
        "    listaGe = np.empty((1,3,nElementos))\n",
        "\n",
        "    '''Há um if dentro do loop porque elementos de 2ª ordem podem terminar incompletos dependendo de como discretizarmos o domínio. Dessa forma é \n",
        "    necessário definir uma integração particular para o último elemento em que o integramos só até a metade'''\n",
        "    \n",
        "    indice_elemento = 0\n",
        "    for e in range(0,nNos-1,2):\n",
        "        \n",
        "        Ke = np.array([[INTEGRACAO_2(K11,malha[e],malha[e+1],malha[e+2]),INTEGRACAO_2(K12,malha[e],malha[e+1],malha[e+2]),INTEGRACAO_2(K13,malha[e],malha[e+1],malha[e+2])],\n",
        "                    [INTEGRACAO_2(K21,malha[e],malha[e+1],malha[e+2]),INTEGRACAO_2(K22,malha[e],malha[e+1],malha[e+2]),INTEGRACAO_2(K23,malha[e],malha[e+1],malha[e+2])],\n",
        "                    [INTEGRACAO_2(K31,malha[e],malha[e+1],malha[e+2]),INTEGRACAO_2(K32,malha[e],malha[e+1],malha[e+2]),INTEGRACAO_2(K33,malha[e],malha[e+1],malha[e+2])]])\n",
        "            \n",
        "        Ge = np.array([[INTEGRACAO_2(G1,malha[e],malha[e+1],malha[e+2]),INTEGRACAO_2(G2,malha[e],malha[e+1],malha[e+2]),INTEGRACAO_2(G3,malha[e],malha[e+1],malha[e+2])]])\n",
        "\n",
        "        listaKe[:,:,indice_elemento] = Ke\n",
        "        listaGe[:,:,indice_elemento] = Ge\n",
        "        indice_elemento = indice_elemento + 1\n",
        "\n",
        "# Matriz de conectividade (IEN)\n",
        "\n",
        "IEN = np.zeros((nElementos,nNosLocais))\n",
        "\n",
        "##1ª ORDEM\n",
        "if ordemElemento == 1:\n",
        "        \n",
        "    for elemento in range(nElementos):\n",
        "        for noLocal in range(nNosLocais):\n",
        "                \n",
        "            IEN[elemento,noLocal] = elemento*(nNosLocais - 1) + noLocal\n",
        "\n",
        "##2ª ORDEM\n",
        "elif ordemElemento == 2:\n",
        "    for elemento in range(nElementos):\n",
        "\n",
        "        for noLocal in range(nNosLocais):\n",
        "\n",
        "            IEN[elemento,noLocal] = elemento*(nNosLocais - 1) + noLocal\n",
        "\n",
        "print(\"Matriz de conectividade: \")\n",
        "#print(IEN)\n",
        "\n",
        "#Matrizes globais\n",
        "\n",
        "Ks = np.zeros((nNos,nNos))    #Ks pois se refere a matriz global ainda em seu estado singular\n",
        "Gs= np.zeros(nNos)\n",
        "\n",
        "nMatrizesElementares = len(listaKe[0,0,:])\n",
        "\n",
        "##1ª ORDEM\n",
        "if ordemElemento == 1:\n",
        "\n",
        "    ###Adicionando cada matriz elementar à matriz global\n",
        "    for K_elementar_index in range(nMatrizesElementares):\n",
        "\n",
        "        Kaux = np.zeros((nNos,nNos))\n",
        "\n",
        "        ##Permutação da matriz global\n",
        "        posicoes = list(it.product(IEN[K_elementar_index], repeat=2))   #Retorna tuplas de permutações da lista. O parâmetro r define quantos elementos da lista permutar por vez\n",
        "        posicoes = [(int(x), int(y)) for x,y in posicoes]             #O método retorna tuplas de floats, apenas passei os dados para int\n",
        "                \n",
        "        ##Permutação da matriz elementar\n",
        "        posicoes_locais = list(it.product([0,1], repeat=2))   #Retorna tuplas de permutações da lista. O parâmetro r define quantos elementos da lista permutar por vez\n",
        "        posicoes_locais = [(int(x), int(y)) for x,y in posicoes_locais]\n",
        "                \n",
        "        #print(posicoes)\n",
        "        #print(posicoes_locais)\n",
        "        for i in range(len(posicoes)):\n",
        "            posicao_global = posicoes[i] \n",
        "            posicao_local = posicoes_locais[i] + (K_elementar_index,)\n",
        "            Kaux[posicao_global] = listaKe[posicao_local]\n",
        "        #print(Kaux)\n",
        "        Ks = Ks + Kaux\n",
        "        \n",
        "    ###Adicionando cada matriz elementar Ge à matriz global G\n",
        "    for G_elementar_index in range(nMatrizesElementares):\n",
        "        \n",
        "        Gaux = np.zeros(nNos)\n",
        "\n",
        "        for i in range(2):\n",
        "            Gaux[G_elementar_index*(nNosLocais - 1) + i] = listaGe[:,i,G_elementar_index]\n",
        "        #print(Gaux)\n",
        "        Gs = Gs + Gaux\n",
        "        \n",
        "    print(\"\\nMatrizes globais singulares: \")\n",
        "    print(\"Ks\")  \n",
        "    #print(np.array_str(Ks, precision=2, suppress_small=True))\n",
        "    print(\"Gs\")\n",
        "    #print(np.array_str(Gs, precision=2, suppress_small=True))\n",
        "    \n",
        "##2ª ORDEM\n",
        "elif ordemElemento == 2:\n",
        "\n",
        "    ###Adicionando cada matriz elementar Ke à matriz global K\n",
        "    for K_elementar_index in range(nMatrizesElementares):\n",
        "        \n",
        "        Kaux = np.zeros((nNos,nNos))\n",
        "\n",
        "        ##Permutação da matriz global\n",
        "        posicoes = list(it.product(IEN[K_elementar_index], repeat=2))   #Retorna tuplas de permutações da lista. O parâmetro r define quantos elementos da lista permutar por vez\n",
        "        posicoes = [(int(x), int(y)) for x,y in posicoes]             #O método retorna tuplas de floats, apenas passei os dados para int\n",
        "        \n",
        "        ##Permutação da matriz elementar\n",
        "        posicoes_locais = list(it.product([0,1,2], repeat=2))   #Retorna tuplas de permutações da lista. O parâmetro r define quantos elementos da lista permutar por vez\n",
        "        posicoes_locais = [(int(x), int(y)) for x,y in posicoes_locais]\n",
        "        \n",
        "        #print(posicoes)\n",
        "        #print(posicoes_locais)\n",
        "        for i in range(len(posicoes)):\n",
        "            posicao_global = posicoes[i]\n",
        "            posicao_local = posicoes_locais[i] + (K_elementar_index,)\n",
        "            Kaux[posicao_global] = listaKe[posicao_local]\n",
        "        #print(Kaux)\n",
        "        Ks = Ks + Kaux\n",
        "        \n",
        "    ###Adicionando cada matriz elementar Ge à matriz global G\n",
        "    for G_elementar_index in range(nMatrizesElementares):\n",
        "        \n",
        "        Gaux = np.zeros(nNos)\n",
        "\n",
        "        if ligacoes%2 == 0 and G_elementar_index == ultimoGe:\n",
        "\n",
        "            for i in range(2):\n",
        "                Gaux[G_elementar_index*(nNosLocais - 1) + i] = listaGe[:,i,G_elementar_index]\n",
        "\n",
        "            Gs = Gs + Gaux\n",
        "        \n",
        "        else:\n",
        "            for i in range(3):\n",
        "                Gaux[G_elementar_index*(nNosLocais - 1) + i] = listaGe[:,i,G_elementar_index]\n",
        "\n",
        "            Gs = Gs + Gaux\n",
        "    \n",
        "    print(\"\\nMatrizes globais singulares: \")\n",
        "    print(\"Ks\")  \n",
        "    #print(np.array_str(Ks, precision=2, suppress_small=True))\n",
        "    print(\"Gs\")\n",
        "    #print(np.array_str(Gs, precision=2, suppress_small=True))\n",
        "    \n",
        "#Aplicação das condições de contorno na matriz e vetor independente:   K.T + G = 0\n",
        "\n",
        "##K\n",
        "###1º contorno\n",
        "K = np.delete(Ks,obj=0,axis=0)   #eliminando linha\n",
        "K = np.delete(K,obj=0, axis=1)   #eliminando coluna\n",
        "###2º contorno\n",
        "K = np.delete(K,obj=-1, axis=0)    #eliminando linha\n",
        "K = np.delete(K,obj=-1, axis=1)   #eliminando coluna\n",
        "\n",
        "##G\n",
        "G = Gs[1:-1]\n",
        "KLinhaEliminada = np.delete(Ks,obj=0,axis=0)\n",
        "KLinhaEliminada = np.delete(KLinhaEliminada,obj=-1,axis=0)\n",
        "\n",
        "for i in range(len(G)):\n",
        "\n",
        "    G[i] = G[i] + To*KLinhaEliminada[i,0] + Tf*KLinhaEliminada[i,-1]\n",
        "\n",
        "print(\"\\nMatrizes globais: \")\n",
        "print(\"K\")  \n",
        "#print(np.array_str(K, precision=2, suppress_small=True))\n",
        "print(\"G\")\n",
        "#print(np.array_str(G, precision=2, suppress_small=True))\n",
        "\n",
        "#Solucionando o sistema\n",
        "\n",
        "CampoTSemContorno = np.linalg.solve(K,-G)\n",
        "\n",
        "BCo = np.array([To])\n",
        "BCf = np.array([Tf])\n",
        "Tnos = np.concatenate((BCo,CampoTSemContorno,BCf))\n",
        "\n",
        "print(\"\\nCampo de temperatura (solução numérica): \")\n",
        "print(np.array_str(Tnos, precision=2, suppress_small=True))\n",
        "\n",
        "#Gerando o campo de  temperatura\n",
        "\n",
        "def CampoTNumerico(x,T):\n",
        "\n",
        "    n = int(len(x)/nElementos)\n",
        "    x_sliced = np.empty((nElementos,n))\n",
        "\n",
        "    for i in range(nElementos):\n",
        "\n",
        "        x_sliced[i] = x[(n-1)*i:(n-1)*i+n]\n",
        "    \n",
        "    Campo_T = 0\n",
        "\n",
        "    for e in range(nElementos):\n",
        "\n",
        "        Campo_T += N11(x[e],malha[e],malha[e+1])*T[e] + N12(x[e],malha[e],malha[e+1])*T[e+1]\n",
        "\n",
        "    return Campo_T\n",
        "\n",
        "#Solução analítica\n",
        "\n",
        "DominioAnalitico = np.linspace(Xo,Xf,200)\n",
        "\n",
        "def CampoTAnalitico(x):\n",
        "    return (5/9)*x**3 + (10/3)*x**2 - (185/3)*x + 1420/9\n",
        "\n",
        "#Exibindo as soluções\n",
        "\n",
        "plt.style.use('bmh')\n",
        "\n",
        "fig, (ax1) = plt.subplots(1, 1, sharey=True, sharex = True, figsize = (8,6))\n",
        "\n",
        "ax1.scatter(malha, Tnos, s=15, color='red')\n",
        "#ax1.plot(malha, CampoTemperatura, color='red',)\n",
        "ax1.scatter(DominioAnalitico, CampoTNumerico(DominioAnalitico,Tnos), s=15, color='blue')\n",
        "#ax1.plot(DominioAnalitico, CampoTNumerico(DominioAnalitico,Tnos), color='blue')\n",
        "ax1.plot(DominioAnalitico, CampoTAnalitico(DominioAnalitico), color='black', linewidth=1.5)\n",
        "ax1.set_title('Condução de calor em barra delgada')\n",
        "ax1.set_xlabel('Comprimento (m)')\n",
        "ax1.set_ylabel('Temperatura (ºC)')\n",
        "ax1.legend(loc='best',facecolor ='w')\n",
        "\n"
      ]
    },
    {
      "cell_type": "code",
      "execution_count": 13,
      "metadata": {},
      "outputs": [
        {
          "name": "stdout",
          "output_type": "stream",
          "text": [
            "94.73003472222223\n"
          ]
        }
      ],
      "source": [
        "Tn = N11(1.1,malha[0],malha[0+1])*Tnos[0] + N12(1.1,malha[0],malha[0+1])*Tnos[1]\n",
        "print(Tn)"
      ]
    },
    {
      "cell_type": "markdown",
      "metadata": {},
      "source": [
        "## Rascunho"
      ]
    }
  ],
  "metadata": {
    "colab": {
      "authorship_tag": "ABX9TyMWkaDkWDT/psRi1/GfuOkh",
      "collapsed_sections": [],
      "include_colab_link": true,
      "name": "Elementos Finitos.ipynb",
      "provenance": []
    },
    "kernelspec": {
      "display_name": "Python 3.9.13 64-bit (microsoft store)",
      "language": "python",
      "name": "python3"
    },
    "language_info": {
      "codemirror_mode": {
        "name": "ipython",
        "version": 3
      },
      "file_extension": ".py",
      "mimetype": "text/x-python",
      "name": "python",
      "nbconvert_exporter": "python",
      "pygments_lexer": "ipython3",
      "version": "3.9.13"
    },
    "vscode": {
      "interpreter": {
        "hash": "0709ffedbbd8d14ae543d940ec814562af29378a206066d0453ef26f5473ded1"
      }
    }
  },
  "nbformat": 4,
  "nbformat_minor": 0
}
