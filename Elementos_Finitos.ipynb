{
  "cells": [
    {
      "cell_type": "markdown",
      "metadata": {
        "colab_type": "text",
        "id": "view-in-github"
      },
      "source": [
        "<a href=\"https://colab.research.google.com/github/jpedro-rod/ElementosFinitos/blob/main/Elementos_Finitos.ipynb\" target=\"_parent\"><img src=\"https://colab.research.google.com/assets/colab-badge.svg\" alt=\"Open In Colab\"/></a>"
      ]
    },
    {
      "cell_type": "markdown",
      "metadata": {
        "id": "QXwCPCDDyGPH"
      },
      "source": [
        "# Elementos Finitos "
      ]
    },
    {
      "cell_type": "code",
      "execution_count": 1,
      "metadata": {
        "id": "sSQ2RPGUyD8x"
      },
      "outputs": [],
      "source": [
        "import numpy as np\n",
        "import matplotlib.pyplot as plt\n",
        "import scipy as sp\n",
        "import pandas as pd\n",
        "import itertools as it   #biblioteca com funções de permutação a serem usadas na interação da matriz de conectividade com a global"
      ]
    },
    {
      "cell_type": "markdown",
      "metadata": {
        "id": "La0gdu-5sLjz"
      },
      "source": [
        "Formulação forte de um problema de condução de calor estacionário em uma placa:\n",
        "\n",
        "$\\nabla\\cdot\\vec{q} + G = 0 \\;,\\;\\; \\vec{q} = -k\\nabla T$\n",
        "\n",
        "Formulação fraca:\n",
        "\n",
        "$∫_{\\Omega}[\\nabla\\cdot\\vec{q} + G]\\cdot \\omega(x,y) \\;\\; d\\Omega = 0, ∀\\omega \\in U^0$\n",
        "\n",
        "$∫_{\\Omega}[\\nabla\\cdot\\vec{q}\\omega + G\\omega] \\;\\; d\\Omega = 0, ∀\\omega \\in U^0$\n",
        "\n",
        "Pelo Teorema de Green (funcionando como a regra do produto funcionava em 01 dimensão):\n",
        "\n",
        "$\\oint_{\\Gamma}\\omega\\vec{q}\\cdot\\vec{n} \\; d\\Gamma - \\int_{Ω} \\nabla\\omega\\cdot\\vec{q} \\;\\; dΩ + \\int_{\\Omega} G\\omega \\;\\; dΩ= 0 \\;\\;\\;\\; (I)$"
      ]
    },
    {
      "cell_type": "markdown",
      "metadata": {
        "id": "nnkVjAPXDe2T"
      },
      "source": [
        "Reescrevendo a 1ª parcela em função das condições de contorno, ter-se-á:\n",
        "\n",
        "$\\oint_{\\Gamma}\\omega\\vec{q}\\cdot\\vec{n} \\; d\\Gamma = \\int_{\\Gamma_q} \\omega\\vec{q}\\cdot\\vec{n} \\; d\\Gamma_q + \\int_{\\Gamma_T} \\omega\\vec{q}\\cdot\\vec{n} \\; d\\Gamma_T$\n",
        "\n",
        "Sabe-se ainda que $\\omega(x,y)=0$ em $\\Gamma_T$, o que simplifica a equação oriunda do Teorema de Green:\n",
        "\n",
        "$\\oint_{\\Gamma}\\omega\\vec{q}\\cdot\\vec{n} \\; d\\Gamma = \\int_{\\Gamma_q} \\omega\\vec{q}\\cdot\\vec{n} \\; d\\Gamma_q \\;\\;\\;\\; (II)$"
      ]
    },
    {
      "cell_type": "markdown",
      "metadata": {
        "id": "0jvfXQ8JDfq-"
      },
      "source": [
        "Inserindo $II$ em $I$ e definindo $\\overline{q}=\\vec{q}\\cdot\\vec{n}$ finalmente:\n",
        "\n",
        "$\\int_{Ω} \\nabla\\omega\\cdot\\vec{q} \\;\\; dΩ = \\int_{\\Gamma_q} \\omega\\overline{q} \\;\\; dΓ_q + \\int_{\\Omega} \\omega G \\;\\; dΩ$\n",
        "\n",
        "$\\int_{Ω} \\nabla\\omega\\cdot(-k\\nabla T) \\;\\; dΩ = \\int_{\\Gamma_q} \\omega\\overline{q} \\;\\; dΓ_q + \\int_{\\Omega} \\omega G \\;\\; dΩ$"
      ]
    },
    {
      "cell_type": "markdown",
      "metadata": {
        "id": "9rJYRbNPENp_"
      },
      "source": [
        "Discretizando a fórmula fraca:\n",
        "\n",
        "$\\int_{Ω} -B^{e^T}\\omega^{e^T} \\cdot k \\cdot B^eT^e dΩ^e = \\int_{\\Gamma_q} N^{e^T}\\omega^{e^T}\\overline{q} \\;\\; dΓ_q^e + \\int_{\\Omega} N^{e^T}\\omega^{e^T}G \\;\\; dΩ^e$\n",
        "\n",
        "Onde $N^e$ é *matriz* de funções de interpolação (ou de forma) e $B^e$ é matriz das derivadas de $N^e$\n",
        "\n",
        "$\\int_{Ω} -B^{e^T} k B^e \\cdot T^e dΩ^e = \\int_{\\Gamma_q} N^{e^T}\\overline{q} \\;\\; dΓ_q^e + \\int_{\\Omega} N^{e^T}G \\;\\; dΩ^e$"
      ]
    },
    {
      "cell_type": "markdown",
      "metadata": {},
      "source": [
        "## Funções de forma (ou de interpolação)"
      ]
    },
    {
      "cell_type": "code",
      "execution_count": 2,
      "metadata": {
        "id": "wSKN4qR7qh18"
      },
      "outputs": [],
      "source": [
        "#1ª ordem:\n",
        "#N1 = [N11, N12]\n",
        "\n",
        "def N11(x):\n",
        "    return 4-x\n",
        "\n",
        "def N12(x):\n",
        "    return x-3\n",
        "\n",
        "def B11(x):\n",
        "    return -1\n",
        "\n",
        "def B12(x):\n",
        "    return 1\n",
        "\n",
        "#2ª ordem:\n",
        "#N2 = [N21, N22, N23]\n",
        "\n",
        "def N21(x):\n",
        "    return (2/2**2)*(x-2)*(x-3)\n",
        "\n",
        "def N22(x):\n",
        "    return (-4/2**2)*(x-1)*(x-3)\n",
        "\n",
        "def N23(x):\n",
        "    return (2/2**2)*(x-1)*(x-2)\n",
        "\n",
        "# B2 = [B21, B22, B23]\n",
        "\n",
        "def B21(x):\n",
        "    return (1/2)*(2*x-5)\n",
        "\n",
        "def B22(x):\n",
        "    return -2*x+4\n",
        "\n",
        "def B23(x):\n",
        "    return (1/2)*(2*x-3)"
      ]
    },
    {
      "cell_type": "markdown",
      "metadata": {},
      "source": [
        "## Condução de calor em barra delgada"
      ]
    },
    {
      "cell_type": "markdown",
      "metadata": {},
      "source": [
        "Condução de calor numa barra fina e homogênea com extremidades a temperaturas fixas e submetida a geração de calor de comportamento linear:\n",
        "\n",
        "$L = 4\\:m = 4 \\;,\\;\\; A = 1\\:m^2 \\;,\\;\\; K = 5\\:W/(°Cm)$\n",
        "\n",
        "$G(x) = \\frac{50}{3}(x+2) \\;,\\;\\; T(x=1) = 100°C \\;,\\;\\; T(x=4) = 0$"
      ]
    },
    {
      "cell_type": "markdown",
      "metadata": {},
      "source": [
        "$$\\int_{Ω} B^{e^T} k B^e \\; dx^e \\cdot T^e + \\int_{\\Omega} N^{e^T}G \\;\\; dx^e = 0$$"
      ]
    },
    {
      "cell_type": "code",
      "execution_count": 17,
      "metadata": {},
      "outputs": [
        {
          "name": "stdout",
          "output_type": "stream",
          "text": [
            "[(0, 0), (0, 1), (1, 0), (1, 1)]\n",
            "[(0, 0), (0, 1), (1, 0), (1, 1)]\n"
          ]
        },
        {
          "ename": "ValueError",
          "evalue": "operands could not be broadcast together with shapes (4,) (1,2) ",
          "output_type": "error",
          "traceback": [
            "\u001b[1;31m---------------------------------------------------------------------------\u001b[0m",
            "\u001b[1;31mValueError\u001b[0m                                Traceback (most recent call last)",
            "\u001b[1;32mc:\\Users\\João Pedro\\Downloads\\ElementosFinitos\\Elementos_Finitos.ipynb Célula: 13\u001b[0m in \u001b[0;36m<cell line: 163>\u001b[1;34m()\u001b[0m\n\u001b[0;32m    <a href='vscode-notebook-cell:/c%3A/Users/Jo%C3%A3o%20Pedro/Downloads/ElementosFinitos/Elementos_Finitos.ipynb#X15sZmlsZQ%3D%3D?line=184'>185</a>\u001b[0m     K \u001b[39m=\u001b[39m K \u001b[39m+\u001b[39m Kn\n\u001b[0;32m    <a href='vscode-notebook-cell:/c%3A/Users/Jo%C3%A3o%20Pedro/Downloads/ElementosFinitos/Elementos_Finitos.ipynb#X15sZmlsZQ%3D%3D?line=186'>187</a>\u001b[0m     Gn \u001b[39m=\u001b[39m listaGe[:,:,K_elementar_index]\n\u001b[1;32m--> <a href='vscode-notebook-cell:/c%3A/Users/Jo%C3%A3o%20Pedro/Downloads/ElementosFinitos/Elementos_Finitos.ipynb#X15sZmlsZQ%3D%3D?line=187'>188</a>\u001b[0m     G \u001b[39m=\u001b[39m G \u001b[39m+\u001b[39;49m Gn\n\u001b[0;32m    <a href='vscode-notebook-cell:/c%3A/Users/Jo%C3%A3o%20Pedro/Downloads/ElementosFinitos/Elementos_Finitos.ipynb#X15sZmlsZQ%3D%3D?line=189'>190</a>\u001b[0m \u001b[39mprint\u001b[39m(K)\n\u001b[0;32m    <a href='vscode-notebook-cell:/c%3A/Users/Jo%C3%A3o%20Pedro/Downloads/ElementosFinitos/Elementos_Finitos.ipynb#X15sZmlsZQ%3D%3D?line=190'>191</a>\u001b[0m \u001b[39mprint\u001b[39m(G)\n",
            "\u001b[1;31mValueError\u001b[0m: operands could not be broadcast together with shapes (4,) (1,2) "
          ]
        }
      ],
      "source": [
        "#Parâmetros Físicos\n",
        "\n",
        "Xo = 1\n",
        "Xf = 4\n",
        "A = 1\n",
        "k = 5\n",
        "To = 100\n",
        "Tf = 0\n",
        "\n",
        "def S(x):\n",
        "    return (50/3)*(x+2)\n",
        "\n",
        "#Parâmetros numéricos\n",
        "\n",
        "ligacoes = 4\n",
        "malha = np.linspace(Xo,Xf,ligacoes)\n",
        "\n",
        "#OBS.: \"ligacoes\" se difere de nós pois se refere a pontos que ficam apenas nas fronteiras de cada elemento. \"ligacoes\" não abrange nós no interior de elementos, como nos de 2ª ordem.\n",
        "\n",
        "ordemElemento = 1   #1 ou 2\n",
        "\n",
        "#Montando matrizes elementares e integrando\n",
        "##Função de integração a ser usada\n",
        "def INT(f,Xo,Xf):\n",
        "    return sp.integrate.quad(f,Xo,Xf)[0]\n",
        "\n",
        "##Produtos das funções de forma 1ª ordem\n",
        "if ordemElemento == 1:\n",
        "\n",
        "    ###Definindo nº de elementos e nós \n",
        "    nElementos = len(malha)-1          #O nº de elementos sempre será inteiro independente se nº de ligações é par ou impar\n",
        "    nNos = nElementos+1\n",
        "    \n",
        "    nNosLocais = 2\n",
        "\n",
        "    K11 = lambda x : B11(x)*k*B11(x)\n",
        "    K12 = lambda x : B11(x)*k*B12(x)\n",
        "    K21 = lambda x : B12(x)*k*B11(x)\n",
        "    K22 = lambda x : B12(x)*k*B12(x)\n",
        "\n",
        "    G1 = lambda x : S(x)*N11(x)\n",
        "    G2 = lambda x : S(x)*N12(x)\n",
        "\n",
        "##Integrando e montando\n",
        "    listaKe = np.empty((2,2,nElementos))\n",
        "    listaGe = np.empty((1,2,nElementos))\n",
        "\n",
        "    for e in range(0,nElementos):\n",
        "        Ke = np.array([[INT(K11,malha[e],malha[e+1]),INT(K12,malha[e],malha[e+1])],\n",
        "                    [INT(K21,malha[e],malha[e+1]),INT(K22,malha[e],malha[e+1])]])         \n",
        "\n",
        "        Ge = np.array([[INT(G1,malha[e],malha[e+1]),INT(G2,malha[e],malha[e+1])]])\n",
        "        \n",
        "        listaKe[:,:,e] = Ke\n",
        "        listaGe[:,:,e] = Ge\n",
        "\n",
        "##Produtos das funções de forma 2ª ordem\n",
        "elif ordemElemento == 2:\n",
        "    \n",
        "    ###Definindo nº de elementos e nós\n",
        "    nElementos = (len(malha)-1)/2          #O nº de elementos será inteiro quando nº de ligações for ímpar e racional quando nº de ligações for par\n",
        "    nNos = int(3*nElementos - (nElementos-1))\n",
        "\n",
        "    nNosLocais = 3\n",
        "\n",
        "    nElementos = int(nElementos + 0.5)     #Para ser possível realizar os loops mais abaixo e montar a lista de matrizes de elementos\n",
        "\n",
        "    K11 = lambda x : B21(x)*k*B21(x)\n",
        "    K12 = lambda x : B21(x)*k*B22(x)\n",
        "    K13 = lambda x : B21(x)*k*B23(x)\n",
        "    K21 = lambda x : B22(x)*k*B21(x)\n",
        "    K22 = lambda x : B22(x)*k*B22(x)\n",
        "    K23 = lambda x : B22(x)*k*B23(x)\n",
        "    K31 = lambda x : B23(x)*k*B21(x)\n",
        "    K32 = lambda x : B23(x)*k*B22(x)\n",
        "    K33 = lambda x : B23(x)*k*B23(x)\n",
        "\n",
        "    G1 = lambda x : S(x)*N21(x)\n",
        "    G2 = lambda x : S(x)*N22(x)\n",
        "    G3 = lambda x : S(x)*N23(x)\n",
        "\n",
        "##Integrando e montando\n",
        "\n",
        "    listaKe = np.empty((3,3,nElementos))\n",
        "    listaGe = np.empty((1,3,nElementos))\n",
        "\n",
        "    '''Há um if dentro do loop porque elementos de 2ª ordem podem terminar incompletos dependendo de como discretizarmos o domínio. Dessa forma é \n",
        "    necessário definir uma integração particular para o último elemento em que o integramos só até a metade'''\n",
        "    \n",
        "    indice_elemento = 0\n",
        "    for e in range(0,nNos-1,2):\n",
        "\n",
        "        ultimoNo = list(range(0,nNos-1,2))[-1]\n",
        "        \n",
        "        if ligacoes%2 == 0 and e == ultimoNo:\n",
        "            Ke = np.array([[INT(K11,malha[e],malha[e+1]),INT(K12,malha[e],malha[e+1]),INT(K13,malha[e],malha[e])],\n",
        "                           [INT(K21,malha[e],malha[e+1]),INT(K22,malha[e],malha[e+1]),INT(K23,malha[e],malha[e])],\n",
        "                           [INT(K31,malha[e],malha[e]),INT(K32,malha[e],malha[e]),INT(K33,malha[e],malha[e])]])\n",
        "\n",
        "            Ge = np.array([[INT(G1,malha[e],malha[e+1]),INT(G2,malha[e],malha[e+1]),INT(G3,malha[e],malha[e+1])]])\n",
        "\n",
        "        else:\n",
        "            Ke = np.array([[INT(K11,malha[e],malha[e+2]),INT(K12,malha[e],malha[e+2]),INT(K13,malha[e],malha[e+2])],\n",
        "                           [INT(K21,malha[e],malha[e+2]),INT(K22,malha[e],malha[e+2]),INT(K23,malha[e],malha[e+2])],\n",
        "                           [INT(K31,malha[e],malha[e+2]),INT(K32,malha[e],malha[e+2]),INT(K33,malha[e],malha[e+2])]])\n",
        "                \n",
        "            Ge = np.array([[INT(G1,malha[e],malha[e+2]),INT(G2,malha[e],malha[e+2]),INT(G3,malha[e],malha[e+2])]])\n",
        "\n",
        "        listaKe[:,:,indice_elemento] = Ke\n",
        "        listaGe[:,:,indice_elemento] = Ge\n",
        "        indice_elemento = indice_elemento + 1\n",
        "\n",
        "#Matriz de conectividade\n",
        "\n",
        "M = np.empty((nElementos,nNosLocais))\n",
        "\n",
        "##1ª ORDEM\n",
        "if ordemElemento == 1:\n",
        "        \n",
        "    for elemento in range(nElementos):\n",
        "        for noLocal in range(nNosLocais):\n",
        "                \n",
        "            M[elemento,noLocal] = elemento*(nNosLocais - 1) + noLocal\n",
        "\n",
        "##2ª ORDEM\n",
        "elif ordemElemento == 2:\n",
        "    for elemento in range(nElementos):\n",
        "\n",
        "        ultimoElemento = list(range(nElementos))[-1]\n",
        "        if  ligacoes%2 == 0 and elemento == ultimoElemento:\n",
        "            for noLocal in range(2):\n",
        "\n",
        "                M[elemento,noLocal] = elemento*(nNosLocais - 1) + noLocal\n",
        "\n",
        "        else:\n",
        "            for noLocal in range(nNosLocais):\n",
        "\n",
        "                M[elemento,noLocal] = elemento*(nNosLocais - 1) + noLocal\n",
        "#print(M)\n",
        "#Matrizes globais\n",
        "\n",
        "K = np.zeros((nNos,nNos))\n",
        "G = np.zeros(nNos)\n",
        "\n",
        "'''\n",
        "print(len(listaKe[0,0,:]))\n",
        "print(list(range(len(listaKe[0,0,:]))))\n",
        "for indice in range(len(listaKe[0,0,:])):\n",
        "    \n",
        "    Kn = np.empty((nNos,nNos))\n",
        "    print(indice)\n",
        "    print(Kn)\n",
        "    print(Kn[indice*3:indice*3+3,indice*3:indice*3+3].shape)\n",
        "    print(listaKe[:,:,indice].shape)\n",
        "    Kn[indice*3:indice*3+3,indice*3:indice*3+3] = listaKe[:,:,indice]\n",
        "    print(Kn)\n",
        "    K = K + Kn\n",
        "'''\n",
        "\n",
        "nMatrizesElementares = len(listaKe[0,0,:])\n",
        "\n",
        "##1ª ORDEM\n",
        "if ordemElemento == 1:\n",
        "\n",
        "    ###Adicionando cada matriz elementar à matriz global\n",
        "    for K_elementar_index in range(nMatrizesElementares):\n",
        "        Kn = np.zeros((nNos,nNos))\n",
        "        Gn = np.zeros(nNos)\n",
        "\n",
        "        ##Permutação da matriz global\n",
        "        posicoes = list(it.product(M[K_elementar_index], repeat=2))   #Retorna tuplas de permutações da lista. O parâmetro r define quantos elementos da lista permutar por vez\n",
        "        posicoes = [(int(x), int(y)) for x,y in posicoes]             #O método retorna tuplas de floats, apenas passei os dados para int\n",
        "                \n",
        "        ##Permutação da matriz elementar\n",
        "        posicoes_locais = list(it.product([0,1], repeat=2))   #Retorna tuplas de permutações da lista. O parâmetro r define quantos elementos da lista permutar por vez\n",
        "        posicoes_locais = [(int(x), int(y)) for x,y in posicoes_locais]\n",
        "                \n",
        "        print(posicoes)\n",
        "        print(posicoes_locais)\n",
        "        for i in range(len(posicoes)):\n",
        "            posicao_global = posicoes[i] \n",
        "            posicao_local = posicoes_locais[i] + (K_elementar_index,)\n",
        "            Kn[posicao_global] = listaKe[posicao_local]\n",
        "        #print(Kn)\n",
        "        K = K + Kn\n",
        "        '''\n",
        "        Gn = listaGe[:,:,K_elementar_index]\n",
        "        G = G + Gn\n",
        "        '''\n",
        "    print(K)\n",
        "    print(G)\n",
        "\n",
        "##2ª ORDEM\n",
        "elif ordemElemento == 2:\n",
        "\n",
        "    ###Adicionando cada matriz elementar à matriz global\n",
        "    for K_elementar_index in range(nMatrizesElementares):\n",
        "        Kn = np.zeros((nNos,nNos))\n",
        "        Gn = np.zeros(nNos)\n",
        "        \n",
        "        ultimoKe = list(range(nMatrizesElementares))[-1]\n",
        "\n",
        "        if ligacoes%2 == 0 and K_elementar_index == ultimoKe:\n",
        "            ##Permutação da matriz global\n",
        "            posicoes = list(it.product(M[K_elementar_index,0:2], repeat=2))   #Retorna tuplas de permutações da lista. O parâmetro r define quantos elementos da lista permutar por vez\n",
        "            posicoes = [(int(x), int(y)) for x,y in posicoes]\n",
        "\n",
        "            ##Permutação da matriz elementar\n",
        "            posicoes_locais = list(it.product([0,1], repeat=2))   #Retorna tuplas de permutações da lista. O parâmetro r define quantos elementos da lista permutar por vez\n",
        "            posicoes_locais = [(int(x), int(y)) for x,y in posicoes_locais]\n",
        "            \n",
        "            #print(posicoes)\n",
        "            #print(posicoes_locais)\n",
        "            for i in range(len(posicoes)):\n",
        "                posicao_global = posicoes[i]\n",
        "                posicao_local = posicoes_locais[i] + (K_elementar_index,)\n",
        "                Kn[posicao_global] = listaKe[posicao_local]\n",
        "            #print(Kn)\n",
        "            K = K + Kn\n",
        "\n",
        "        else:\n",
        "            ##Permutação da matriz global\n",
        "            posicoes = list(it.product(M[K_elementar_index], repeat=2))   #Retorna tuplas de permutações da lista. O parâmetro r define quantos elementos da lista permutar por vez\n",
        "            posicoes = [(int(x), int(y)) for x,y in posicoes]             #O método retorna tuplas de floats, apenas passei os dados para int\n",
        "            \n",
        "            ##Permutação da matriz elementar\n",
        "            posicoes_locais = list(it.product([0,1,2], repeat=2))   #Retorna tuplas de permutações da lista. O parâmetro r define quantos elementos da lista permutar por vez\n",
        "            posicoes_locais = [(int(x), int(y)) for x,y in posicoes_locais]\n",
        "            \n",
        "            #print(posicoes)\n",
        "            #print(posicoes_locais)\n",
        "            for i in range(len(posicoes)):\n",
        "                posicao_global = posicoes[i]\n",
        "                posicao_local = posicoes_locais[i] + (K_elementar_index,)\n",
        "                Kn[posicao_global] = listaKe[posicao_local]\n",
        "            #print(Kn)\n",
        "            K = K + Kn\n",
        "        '''\n",
        "        Gn = listaGe[:,:,K_elementar_index]\n",
        "        G = G + Gn\n",
        "        '''\n",
        "    print(K)\n",
        "    print(G)\n",
        "\n"
      ]
    },
    {
      "cell_type": "code",
      "execution_count": 8,
      "metadata": {},
      "outputs": [
        {
          "name": "stdout",
          "output_type": "stream",
          "text": [
            "[0, 1]\n",
            "[]\n",
            "(1, 2, 3, 5)\n"
          ]
        }
      ],
      "source": [
        "print(list(range(nMatrizesElementares)))\n",
        "INT(K31,0,0)\n",
        "A = np.array([[1,1,1],[1,1,1]])\n",
        "print(A[3:5,3:5])\n",
        "a = (1,2,3)\n",
        "b = (5,)\n",
        "print(a+b)"
      ]
    },
    {
      "cell_type": "code",
      "execution_count": 101,
      "metadata": {},
      "outputs": [
        {
          "name": "stdout",
          "output_type": "stream",
          "text": [
            "(1, 3)\n",
            "(3, 1)\n",
            "[[1 2 3]]\n",
            "[[1]\n",
            " [2]\n",
            " [3]]\n",
            "[[1 2 3]\n",
            " [2 4 6]\n",
            " [3 6 9]]\n"
          ]
        }
      ],
      "source": [
        "'''\n",
        "A = np.array([[1,1,1],[1,1,1]])\n",
        "B = np.array([[1,1],[2,2],[3,3]])\n",
        "C = np.array([[1],[2],[3]])\n",
        "Ct = np.transpose(C)\n",
        "\n",
        "D = np.array([[1,2,3]])\n",
        "Dt = np.transpose(D)\n",
        "print(D.shape)\n",
        "print(Dt.shape)\n",
        "print(D)\n",
        "print(Dt)\n",
        "print(Dt @ D)\n",
        "\n",
        "Se = np.array([[S]])\n",
        "\n",
        "#Vetores de forma\n",
        "\n",
        "Net = np.array([[N21,N22,N23]])\n",
        "Ne = np.transpose(Net)\n",
        "\n",
        "Bet = np.array([[B21,B22,B23]])\n",
        "Be = np.transpose(Bet)\n",
        "\n",
        "#Matrizes elementares\n",
        "\n",
        "dK = Be@Bet   #Certo seria Be @ K @ Bet, mas como em uma dimensão K é escalar, o produto se torna comutativo\n",
        "dG = Se@Net\n",
        "'''"
      ]
    }
  ],
  "metadata": {
    "colab": {
      "authorship_tag": "ABX9TyMWkaDkWDT/psRi1/GfuOkh",
      "collapsed_sections": [],
      "include_colab_link": true,
      "name": "Elementos Finitos.ipynb",
      "provenance": []
    },
    "kernelspec": {
      "display_name": "Python 3.9.13 64-bit (windows store)",
      "language": "python",
      "name": "python3"
    },
    "language_info": {
      "codemirror_mode": {
        "name": "ipython",
        "version": 3
      },
      "file_extension": ".py",
      "mimetype": "text/x-python",
      "name": "python",
      "nbconvert_exporter": "python",
      "pygments_lexer": "ipython3",
      "version": "3.9.13"
    },
    "vscode": {
      "interpreter": {
        "hash": "0709ffedbbd8d14ae543d940ec814562af29378a206066d0453ef26f5473ded1"
      }
    }
  },
  "nbformat": 4,
  "nbformat_minor": 0
}
