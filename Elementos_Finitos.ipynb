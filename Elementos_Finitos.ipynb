{
  "cells": [
    {
      "cell_type": "markdown",
      "metadata": {
        "colab_type": "text",
        "id": "view-in-github"
      },
      "source": [
        "<a href=\"https://colab.research.google.com/github/jpedro-rod/ElementosFinitos/blob/main/Elementos_Finitos.ipynb\" target=\"_parent\"><img src=\"https://colab.research.google.com/assets/colab-badge.svg\" alt=\"Open In Colab\"/></a>"
      ]
    },
    {
      "cell_type": "markdown",
      "metadata": {
        "id": "QXwCPCDDyGPH"
      },
      "source": [
        "# Elementos Finitos "
      ]
    },
    {
      "cell_type": "code",
      "execution_count": 1,
      "metadata": {
        "id": "sSQ2RPGUyD8x"
      },
      "outputs": [],
      "source": [
        "import numpy as np\n",
        "import matplotlib.pyplot as plt\n",
        "import scipy as sp\n",
        "import pandas as pd"
      ]
    },
    {
      "cell_type": "markdown",
      "metadata": {
        "id": "La0gdu-5sLjz"
      },
      "source": [
        "Formulação forte de um problema de condução de calor estacionário em uma placa:\n",
        "\n",
        "$\\nabla\\cdot\\vec{q} + G = 0 \\;,\\;\\; \\vec{q} = -k\\nabla T$\n",
        "\n",
        "Formulação fraca:\n",
        "\n",
        "$∫_{\\Omega}[\\nabla\\cdot\\vec{q} + G]\\cdot \\omega(x,y) \\;\\; d\\Omega = 0, ∀\\omega \\in U^0$\n",
        "\n",
        "$∫_{\\Omega}[\\nabla\\cdot\\vec{q}\\omega + G\\omega] \\;\\; d\\Omega = 0, ∀\\omega \\in U^0$\n",
        "\n",
        "Pelo Teorema de Green (funcionando como a regra do produto funcionava em 01 dimensão):\n",
        "\n",
        "$\\oint_{\\Gamma}\\omega\\vec{q}\\cdot\\vec{n} \\; d\\Gamma - \\int_{Ω} \\nabla\\omega\\cdot\\vec{q} \\;\\; dΩ + \\int_{\\Omega} G\\omega \\;\\; dΩ= 0 \\;\\;\\;\\; (I)$"
      ]
    },
    {
      "cell_type": "markdown",
      "metadata": {
        "id": "nnkVjAPXDe2T"
      },
      "source": [
        "Reescrevendo a 1ª parcela em função das condições de contorno, ter-se-á:\n",
        "\n",
        "$\\oint_{\\Gamma}\\omega\\vec{q}\\cdot\\vec{n} \\; d\\Gamma = \\int_{\\Gamma_q} \\omega\\vec{q}\\cdot\\vec{n} \\; d\\Gamma_q + \\int_{\\Gamma_T} \\omega\\vec{q}\\cdot\\vec{n} \\; d\\Gamma_T$\n",
        "\n",
        "Sabe-se ainda que $\\omega(x,y)=0$ em $\\Gamma_T$, o que simplifica a equação oriunda do Teorema de Green:\n",
        "\n",
        "$\\oint_{\\Gamma}\\omega\\vec{q}\\cdot\\vec{n} \\; d\\Gamma = \\int_{\\Gamma_q} \\omega\\vec{q}\\cdot\\vec{n} \\; d\\Gamma_q \\;\\;\\;\\; (II)$"
      ]
    },
    {
      "cell_type": "markdown",
      "metadata": {
        "id": "0jvfXQ8JDfq-"
      },
      "source": [
        "Inserindo $II$ em $I$ e definindo $\\overline{q}=\\vec{q}\\cdot\\vec{n}$ finalmente:\n",
        "\n",
        "$\\int_{Ω} \\nabla\\omega\\cdot\\vec{q} \\;\\; dΩ = \\int_{\\Gamma_q} \\omega\\overline{q} \\;\\; dΓ_q + \\int_{\\Omega} \\omega G \\;\\; dΩ$\n",
        "\n",
        "$\\int_{Ω} \\nabla\\omega\\cdot(-k\\nabla T) \\;\\; dΩ = \\int_{\\Gamma_q} \\omega\\overline{q} \\;\\; dΓ_q + \\int_{\\Omega} \\omega G \\;\\; dΩ$"
      ]
    },
    {
      "cell_type": "markdown",
      "metadata": {
        "id": "9rJYRbNPENp_"
      },
      "source": [
        "Discretizando a fórmula fraca:\n",
        "\n",
        "$\\int_{Ω} -B^{e^T}\\omega^{e^T} \\cdot k \\cdot B^eT^e dΩ^e = \\int_{\\Gamma_q} N^{e^T}\\omega^{e^T}\\overline{q} \\;\\; dΓ_q^e + \\int_{\\Omega} N^{e^T}\\omega^{e^T}G \\;\\; dΩ^e$\n",
        "\n",
        "Onde $N^e$ é *matriz* de funções de interpolação (ou de forma) e $B^e$ é matriz das derivadas de $N^e$\n",
        "\n",
        "$\\int_{Ω} -B^{e^T} k B^e \\cdot T^e dΩ^e = \\int_{\\Gamma_q} N^{e^T}\\overline{q} \\;\\; dΓ_q^e + \\int_{\\Omega} N^{e^T}G \\;\\; dΩ^e$"
      ]
    },
    {
      "cell_type": "markdown",
      "metadata": {
        "id": "S7lt95vH1bRZ"
      },
      "source": [
        "## Caso em uma dimensão:"
      ]
    },
    {
      "cell_type": "markdown",
      "metadata": {
        "id": "nXnqRCUq1hBX"
      },
      "source": [
        "Condução de calor numa barra fina e homogênea com extremidades a temperaturas fixas e submetida a geração de calor de comportamento linear:\n",
        "\n",
        "$L = 4\\:m = 4 \\;,\\;\\; A = 1\\:m^2 \\;,\\;\\; K = 5\\:W/(°Cm)$\n",
        "\n",
        "$G(x) = \\frac{50}{3}(x+2) \\;,\\;\\; T(x=1) = 100°C \\;,\\;\\; T(x=4) = 0$"
      ]
    },
    {
      "cell_type": "markdown",
      "metadata": {
        "id": "FCqp_ss45IiW"
      },
      "source": [
        "$\\int_{Ω} B^{e^T} k B^e \\; dx^e \\cdot T^e + \\int_{\\Omega} N^{e^T}G \\;\\; dx^e = 0$"
      ]
    },
    {
      "cell_type": "markdown",
      "metadata": {},
      "source": []
    },
    {
      "cell_type": "markdown",
      "metadata": {},
      "source": [
        "Funções de forma (ou de interpolação)"
      ]
    },
    {
      "cell_type": "code",
      "execution_count": 3,
      "metadata": {
        "id": "wSKN4qR7qh18"
      },
      "outputs": [],
      "source": [
        "#1ª ordem:\n",
        "#N1 = [N11, N12]\n",
        "\n",
        "def N11(x):\n",
        "    return 4-x\n",
        "\n",
        "def N12(x):\n",
        "    return x-3\n",
        "\n",
        "def B11(x):\n",
        "    return -1\n",
        "\n",
        "def B22(x):\n",
        "    return 1\n",
        "\n",
        "#2ª ordem:\n",
        "#N2 = [N21, N22, N23]\n",
        "\n",
        "def N21(x):\n",
        "    return (2/2**2)*(x-2)*(x-3)\n",
        "\n",
        "def N22(x):\n",
        "    return (-4/2**2)*(x-1)*(x-3)\n",
        "\n",
        "def N23(x):\n",
        "    return (2/2**2)*(x-1)*(x-2)\n",
        "\n",
        "# B2 = [B21, B22, B23]\n",
        "\n",
        "def B21(x):\n",
        "    return (1/2)*(2*x-5)\n",
        "\n",
        "def B22(x):\n",
        "    return -2*x+4\n",
        "\n",
        "def B23(x):\n",
        "    return (1/2)*(2*x-3)\n"
      ]
    },
    {
      "cell_type": "code",
      "execution_count": 5,
      "metadata": {},
      "outputs": [
        {
          "name": "stdout",
          "output_type": "stream",
          "text": [
            "[[<function B21 at 0x000001B99F317C10>]\n",
            " [<function B22 at 0x000001B99F317CA0>]\n",
            " [<function B23 at 0x000001B99F3178B0>]]\n",
            "[[<function B21 at 0x000001B99F317C10>\n",
            "  <function B22 at 0x000001B99F317CA0>\n",
            "  <function B23 at 0x000001B99F3178B0>]]\n"
          ]
        }
      ],
      "source": [
        "Be = np.array([[B21],[B22],[B23]])\n",
        "\n",
        "Bet = np.transpose(Be)\n",
        "\n",
        "print(Be)\n",
        "print(Bet)"
      ]
    }
  ],
  "metadata": {
    "colab": {
      "authorship_tag": "ABX9TyMWkaDkWDT/psRi1/GfuOkh",
      "collapsed_sections": [],
      "include_colab_link": true,
      "name": "Elementos Finitos.ipynb",
      "provenance": []
    },
    "kernelspec": {
      "display_name": "Python 3.9.13 64-bit (windows store)",
      "language": "python",
      "name": "python3"
    },
    "language_info": {
      "codemirror_mode": {
        "name": "ipython",
        "version": 3
      },
      "file_extension": ".py",
      "mimetype": "text/x-python",
      "name": "python",
      "nbconvert_exporter": "python",
      "pygments_lexer": "ipython3",
      "version": "3.9.13"
    },
    "vscode": {
      "interpreter": {
        "hash": "0709ffedbbd8d14ae543d940ec814562af29378a206066d0453ef26f5473ded1"
      }
    }
  },
  "nbformat": 4,
  "nbformat_minor": 0
}
